{
 "cells": [
  {
   "cell_type": "markdown",
   "metadata": {},
   "source": [
    "# Test A/B: tienda en línea"
   ]
  },
  {
   "cell_type": "markdown",
   "metadata": {},
   "source": [
    "# Contenido\n",
    "\n",
    "1. [Descripción del análisis](#Descripción-del-análisis)\n",
    "\n",
    "\n",
    "2. [Vista general de los datos](#Vista-general-de-los-datos)\n",
    "\n",
    "\n",
    "3. [Corrección de datos](#Corrección-de-datos)\n",
    "    \n",
    "    3.1 [Hypotheses](#Hypotheses)\n",
    "    \n",
    "    3.2 [Orders](#Orders)\n",
    "    \n",
    "    3.3 [Visits](#Visits)\n",
    "    \n",
    "\n",
    "4. [Priorización de hipótesis](#Priorización-de-hipótesis)\n",
    "\n",
    "\n",
    "5. [Análisis del test A/B](#Análisis-del-test-A/B)\n",
    "\n",
    "\n",
    "6. [Conclusión](#Conclusión)"
   ]
  },
  {
   "cell_type": "markdown",
   "metadata": {},
   "source": [
    "## Descripción del análisis\n",
    "<a id=\"Descripción del análisis\"></a>"
   ]
  },
  {
   "cell_type": "markdown",
   "metadata": {},
   "source": [
    "Junto al equipo de marketing se llevará a cabo este análisis en dos etapas.\n",
    "Etapa 1 Priorizar hipótesis:\n",
    "1. Aplicar el framework ICE \n",
    "2. Aplicar el framework RICE\n",
    "3. Mostrar cómo cambia la priorización de hipótesis cuando se utiliza RICE en lugar de ICE.\n",
    "\n",
    "Etapa 2 Análisis del test A/B: \n",
    "1. Se priorizará hipótesis con RICE y ICE\n",
    "2. El ingreso acumulado por grupo.\n",
    "3. El tamaño de pedido promedio acumulado por grupo.\n",
    "4. La diferencia relativa en el tamaño de pedido promedio acumulado para el grupo B en comparación con el grupo A.\n",
    "5. La tasa de conversión de cada grupo como la relación entre los pedidos y el número de visitas de cada día. \n",
    "6. Las tasas de conversión diarias de los dos grupos.\n",
    "7. Los pedidos por usuario.\n",
    "8. Los percentiles 95 y 99 para el número de pedidos por usuario, para definir el punto en el cual un punto de datos se convierte en una anomalía.\n",
    "9. Los precios de los pedidos.\n",
    "10. Los percentiles 95 y 99 de los precios de los pedidos, para definir el punto en el cual un punto de datos se convierte en una anomalía.\n",
    "11. La significancia estadística de la diferencia en la conversión entre los grupos utilizando los datos en bruto.\n",
    "12. La significancia estadística de la diferencia en el tamaño promedio de pedido entre los grupos utilizando los datos en bruto.\n",
    "13. La significancia estadística de la diferencia en la conversión entre los grupos utilizando los datos filtrados.\n",
    "14. La significancia estadística de la diferencia en el tamaño promedio de pedido entre los grupos utilizando los datos filtrados. \n",
    "\n",
    "Todo esto se llevará a cabo con la finalidad de ayudar a aumentar los ingresos."
   ]
  },
  {
   "cell_type": "markdown",
   "metadata": {},
   "source": [
    "## Vista general de los datos\n",
    "<a id=\"Vista general de los datos\"></a>"
   ]
  },
  {
   "cell_type": "code",
   "execution_count": 51,
   "metadata": {},
   "outputs": [],
   "source": [
    "# Carga de laas librerías\n",
    "import pandas as pd\n",
    "import scipy.stats as stats\n",
    "import datetime as dt\n",
    "import numpy as np\n",
    "import matplotlib.pyplot as plt\n",
    "import seaborn as sns\n",
    "from scipy import stats as st"
   ]
  },
  {
   "cell_type": "code",
   "execution_count": 2,
   "metadata": {},
   "outputs": [
    {
     "name": "stdout",
     "output_type": "stream",
     "text": [
      "<class 'pandas.core.frame.DataFrame'>\n",
      "RangeIndex: 9 entries, 0 to 8\n",
      "Data columns (total 5 columns):\n",
      " #   Column      Non-Null Count  Dtype \n",
      "---  ------      --------------  ----- \n",
      " 0   Hypothesis  9 non-null      object\n",
      " 1   Reach       9 non-null      int64 \n",
      " 2   Impact      9 non-null      int64 \n",
      " 3   Confidence  9 non-null      int64 \n",
      " 4   Effort      9 non-null      int64 \n",
      "dtypes: int64(4), object(1)\n",
      "memory usage: 488.0+ bytes\n",
      "None\n"
     ]
    }
   ],
   "source": [
    "# Carda de los datos\n",
    "hypotheses = pd.read_csv(\"/datasets/hypotheses_us.csv\", sep=\";\")\n",
    "print(hypotheses.info())"
   ]
  },
  {
   "cell_type": "code",
   "execution_count": 3,
   "metadata": {},
   "outputs": [
    {
     "data": {
      "text/html": [
       "<div>\n",
       "<style scoped>\n",
       "    .dataframe tbody tr th:only-of-type {\n",
       "        vertical-align: middle;\n",
       "    }\n",
       "\n",
       "    .dataframe tbody tr th {\n",
       "        vertical-align: top;\n",
       "    }\n",
       "\n",
       "    .dataframe thead th {\n",
       "        text-align: right;\n",
       "    }\n",
       "</style>\n",
       "<table border=\"1\" class=\"dataframe\">\n",
       "  <thead>\n",
       "    <tr style=\"text-align: right;\">\n",
       "      <th></th>\n",
       "      <th>Hypothesis</th>\n",
       "      <th>Reach</th>\n",
       "      <th>Impact</th>\n",
       "      <th>Confidence</th>\n",
       "      <th>Effort</th>\n",
       "    </tr>\n",
       "  </thead>\n",
       "  <tbody>\n",
       "    <tr>\n",
       "      <th>0</th>\n",
       "      <td>Add two new channels for attracting traffic. T...</td>\n",
       "      <td>3</td>\n",
       "      <td>10</td>\n",
       "      <td>8</td>\n",
       "      <td>6</td>\n",
       "    </tr>\n",
       "    <tr>\n",
       "      <th>1</th>\n",
       "      <td>Launch your own delivery service. This will sh...</td>\n",
       "      <td>2</td>\n",
       "      <td>5</td>\n",
       "      <td>4</td>\n",
       "      <td>10</td>\n",
       "    </tr>\n",
       "    <tr>\n",
       "      <th>2</th>\n",
       "      <td>Add product recommendation blocks to the store...</td>\n",
       "      <td>8</td>\n",
       "      <td>3</td>\n",
       "      <td>7</td>\n",
       "      <td>3</td>\n",
       "    </tr>\n",
       "    <tr>\n",
       "      <th>3</th>\n",
       "      <td>Change the category structure. This will incre...</td>\n",
       "      <td>8</td>\n",
       "      <td>3</td>\n",
       "      <td>3</td>\n",
       "      <td>8</td>\n",
       "    </tr>\n",
       "    <tr>\n",
       "      <th>4</th>\n",
       "      <td>Change the background color on the main page. ...</td>\n",
       "      <td>3</td>\n",
       "      <td>1</td>\n",
       "      <td>1</td>\n",
       "      <td>1</td>\n",
       "    </tr>\n",
       "    <tr>\n",
       "      <th>5</th>\n",
       "      <td>Add a customer review page. This will increase...</td>\n",
       "      <td>3</td>\n",
       "      <td>2</td>\n",
       "      <td>2</td>\n",
       "      <td>3</td>\n",
       "    </tr>\n",
       "    <tr>\n",
       "      <th>6</th>\n",
       "      <td>Show banners with current offers and sales on ...</td>\n",
       "      <td>5</td>\n",
       "      <td>3</td>\n",
       "      <td>8</td>\n",
       "      <td>3</td>\n",
       "    </tr>\n",
       "    <tr>\n",
       "      <th>7</th>\n",
       "      <td>Add a subscription form to all the main pages....</td>\n",
       "      <td>10</td>\n",
       "      <td>7</td>\n",
       "      <td>8</td>\n",
       "      <td>5</td>\n",
       "    </tr>\n",
       "    <tr>\n",
       "      <th>8</th>\n",
       "      <td>Launch a promotion that gives users discounts ...</td>\n",
       "      <td>1</td>\n",
       "      <td>9</td>\n",
       "      <td>9</td>\n",
       "      <td>5</td>\n",
       "    </tr>\n",
       "  </tbody>\n",
       "</table>\n",
       "</div>"
      ],
      "text/plain": [
       "                                          Hypothesis  Reach  Impact  \\\n",
       "0  Add two new channels for attracting traffic. T...      3      10   \n",
       "1  Launch your own delivery service. This will sh...      2       5   \n",
       "2  Add product recommendation blocks to the store...      8       3   \n",
       "3  Change the category structure. This will incre...      8       3   \n",
       "4  Change the background color on the main page. ...      3       1   \n",
       "5  Add a customer review page. This will increase...      3       2   \n",
       "6  Show banners with current offers and sales on ...      5       3   \n",
       "7  Add a subscription form to all the main pages....     10       7   \n",
       "8  Launch a promotion that gives users discounts ...      1       9   \n",
       "\n",
       "   Confidence  Effort  \n",
       "0           8       6  \n",
       "1           4      10  \n",
       "2           7       3  \n",
       "3           3       8  \n",
       "4           1       1  \n",
       "5           2       3  \n",
       "6           8       3  \n",
       "7           8       5  \n",
       "8           9       5  "
      ]
     },
     "execution_count": 3,
     "metadata": {},
     "output_type": "execute_result"
    }
   ],
   "source": [
    "# Mostramos el contenido\n",
    "hypotheses"
   ]
  },
  {
   "cell_type": "markdown",
   "metadata": {},
   "source": [
    "No se observan datos ausentes, cuenta con la descripción de 9 hipótesis y su alcance, impacto, confianza y el esfuerzo."
   ]
  },
  {
   "cell_type": "code",
   "execution_count": 4,
   "metadata": {},
   "outputs": [
    {
     "name": "stdout",
     "output_type": "stream",
     "text": [
      "<class 'pandas.core.frame.DataFrame'>\n",
      "RangeIndex: 1197 entries, 0 to 1196\n",
      "Data columns (total 5 columns):\n",
      " #   Column         Non-Null Count  Dtype  \n",
      "---  ------         --------------  -----  \n",
      " 0   transactionId  1197 non-null   int64  \n",
      " 1   visitorId      1197 non-null   int64  \n",
      " 2   date           1197 non-null   object \n",
      " 3   revenue        1197 non-null   float64\n",
      " 4   group          1197 non-null   object \n",
      "dtypes: float64(1), int64(2), object(2)\n",
      "memory usage: 46.9+ KB\n",
      "None\n"
     ]
    }
   ],
   "source": [
    "# Carga de datos \n",
    "orders = pd.read_csv(\"/datasets/orders_us.csv\")\n",
    "print(orders.info())"
   ]
  },
  {
   "cell_type": "code",
   "execution_count": 5,
   "metadata": {},
   "outputs": [
    {
     "data": {
      "text/html": [
       "<div>\n",
       "<style scoped>\n",
       "    .dataframe tbody tr th:only-of-type {\n",
       "        vertical-align: middle;\n",
       "    }\n",
       "\n",
       "    .dataframe tbody tr th {\n",
       "        vertical-align: top;\n",
       "    }\n",
       "\n",
       "    .dataframe thead th {\n",
       "        text-align: right;\n",
       "    }\n",
       "</style>\n",
       "<table border=\"1\" class=\"dataframe\">\n",
       "  <thead>\n",
       "    <tr style=\"text-align: right;\">\n",
       "      <th></th>\n",
       "      <th>transactionId</th>\n",
       "      <th>visitorId</th>\n",
       "      <th>date</th>\n",
       "      <th>revenue</th>\n",
       "      <th>group</th>\n",
       "    </tr>\n",
       "  </thead>\n",
       "  <tbody>\n",
       "    <tr>\n",
       "      <th>0</th>\n",
       "      <td>3667963787</td>\n",
       "      <td>3312258926</td>\n",
       "      <td>2019-08-15</td>\n",
       "      <td>30.4</td>\n",
       "      <td>B</td>\n",
       "    </tr>\n",
       "    <tr>\n",
       "      <th>1</th>\n",
       "      <td>2804400009</td>\n",
       "      <td>3642806036</td>\n",
       "      <td>2019-08-15</td>\n",
       "      <td>15.2</td>\n",
       "      <td>B</td>\n",
       "    </tr>\n",
       "    <tr>\n",
       "      <th>2</th>\n",
       "      <td>2961555356</td>\n",
       "      <td>4069496402</td>\n",
       "      <td>2019-08-15</td>\n",
       "      <td>10.2</td>\n",
       "      <td>A</td>\n",
       "    </tr>\n",
       "    <tr>\n",
       "      <th>3</th>\n",
       "      <td>3797467345</td>\n",
       "      <td>1196621759</td>\n",
       "      <td>2019-08-15</td>\n",
       "      <td>155.1</td>\n",
       "      <td>B</td>\n",
       "    </tr>\n",
       "    <tr>\n",
       "      <th>4</th>\n",
       "      <td>2282983706</td>\n",
       "      <td>2322279887</td>\n",
       "      <td>2019-08-15</td>\n",
       "      <td>40.5</td>\n",
       "      <td>B</td>\n",
       "    </tr>\n",
       "  </tbody>\n",
       "</table>\n",
       "</div>"
      ],
      "text/plain": [
       "   transactionId   visitorId        date  revenue group\n",
       "0     3667963787  3312258926  2019-08-15     30.4     B\n",
       "1     2804400009  3642806036  2019-08-15     15.2     B\n",
       "2     2961555356  4069496402  2019-08-15     10.2     A\n",
       "3     3797467345  1196621759  2019-08-15    155.1     B\n",
       "4     2282983706  2322279887  2019-08-15     40.5     B"
      ]
     },
     "execution_count": 5,
     "metadata": {},
     "output_type": "execute_result"
    }
   ],
   "source": [
    "# Mostramos el contenido \n",
    "orders.head()"
   ]
  },
  {
   "cell_type": "markdown",
   "metadata": {},
   "source": [
    "A simple vista no se observan datos ausentes y cuenta 1,197 filas. Contiene los datos de las ordenes realizadas por ambos grupos (A y B). "
   ]
  },
  {
   "cell_type": "code",
   "execution_count": 6,
   "metadata": {},
   "outputs": [
    {
     "name": "stdout",
     "output_type": "stream",
     "text": [
      "<class 'pandas.core.frame.DataFrame'>\n",
      "RangeIndex: 62 entries, 0 to 61\n",
      "Data columns (total 3 columns):\n",
      " #   Column  Non-Null Count  Dtype \n",
      "---  ------  --------------  ----- \n",
      " 0   date    62 non-null     object\n",
      " 1   group   62 non-null     object\n",
      " 2   visits  62 non-null     int64 \n",
      "dtypes: int64(1), object(2)\n",
      "memory usage: 1.6+ KB\n",
      "None\n"
     ]
    }
   ],
   "source": [
    "# carga de datos\n",
    "visits = pd.read_csv(\"/datasets/visits_us.csv\")\n",
    "print(visits.info())"
   ]
  },
  {
   "cell_type": "code",
   "execution_count": 7,
   "metadata": {},
   "outputs": [
    {
     "data": {
      "text/html": [
       "<div>\n",
       "<style scoped>\n",
       "    .dataframe tbody tr th:only-of-type {\n",
       "        vertical-align: middle;\n",
       "    }\n",
       "\n",
       "    .dataframe tbody tr th {\n",
       "        vertical-align: top;\n",
       "    }\n",
       "\n",
       "    .dataframe thead th {\n",
       "        text-align: right;\n",
       "    }\n",
       "</style>\n",
       "<table border=\"1\" class=\"dataframe\">\n",
       "  <thead>\n",
       "    <tr style=\"text-align: right;\">\n",
       "      <th></th>\n",
       "      <th>date</th>\n",
       "      <th>group</th>\n",
       "      <th>visits</th>\n",
       "    </tr>\n",
       "  </thead>\n",
       "  <tbody>\n",
       "    <tr>\n",
       "      <th>0</th>\n",
       "      <td>2019-08-01</td>\n",
       "      <td>A</td>\n",
       "      <td>719</td>\n",
       "    </tr>\n",
       "    <tr>\n",
       "      <th>1</th>\n",
       "      <td>2019-08-02</td>\n",
       "      <td>A</td>\n",
       "      <td>619</td>\n",
       "    </tr>\n",
       "    <tr>\n",
       "      <th>2</th>\n",
       "      <td>2019-08-03</td>\n",
       "      <td>A</td>\n",
       "      <td>507</td>\n",
       "    </tr>\n",
       "    <tr>\n",
       "      <th>3</th>\n",
       "      <td>2019-08-04</td>\n",
       "      <td>A</td>\n",
       "      <td>717</td>\n",
       "    </tr>\n",
       "    <tr>\n",
       "      <th>4</th>\n",
       "      <td>2019-08-05</td>\n",
       "      <td>A</td>\n",
       "      <td>756</td>\n",
       "    </tr>\n",
       "  </tbody>\n",
       "</table>\n",
       "</div>"
      ],
      "text/plain": [
       "         date group  visits\n",
       "0  2019-08-01     A     719\n",
       "1  2019-08-02     A     619\n",
       "2  2019-08-03     A     507\n",
       "3  2019-08-04     A     717\n",
       "4  2019-08-05     A     756"
      ]
     },
     "execution_count": 7,
     "metadata": {},
     "output_type": "execute_result"
    }
   ],
   "source": [
    "# Mostramos los datos\n",
    "visits.head()"
   ]
  },
  {
   "cell_type": "markdown",
   "metadata": {},
   "source": [
    "Contiene los datos de las visitas a la página en línea, no se observan datos ausentes y cuenta con 62 filas."
   ]
  },
  {
   "cell_type": "markdown",
   "metadata": {},
   "source": [
    "## Corrección de datos\n",
    "<a id=\"Corrección de datos\"></a>"
   ]
  },
  {
   "cell_type": "markdown",
   "metadata": {},
   "source": [
    "### Hypotheses\n",
    "<a id=\"Hypotheses\"></a>"
   ]
  },
  {
   "cell_type": "code",
   "execution_count": 8,
   "metadata": {},
   "outputs": [
    {
     "data": {
      "text/plain": [
       "Index(['hypothesis', 'reach', 'impact', 'confidence', 'effort'], dtype='object')"
      ]
     },
     "execution_count": 8,
     "metadata": {},
     "output_type": "execute_result"
    }
   ],
   "source": [
    "# Convertimos los nombres de las columnas en minúscula\n",
    "hypotheses.columns = hypotheses.columns.str.lower()\n",
    "hypotheses.columns"
   ]
  },
  {
   "cell_type": "code",
   "execution_count": 9,
   "metadata": {},
   "outputs": [
    {
     "data": {
      "text/plain": [
       "0"
      ]
     },
     "execution_count": 9,
     "metadata": {},
     "output_type": "execute_result"
    }
   ],
   "source": [
    "# Buscamos la existencia de datos duplicados\n",
    "hypotheses.duplicated().sum()"
   ]
  },
  {
   "cell_type": "markdown",
   "metadata": {},
   "source": [
    "Se realizó un cambio en los nombres de las columnas para que fueran todos minúsculas y se verifico la existencia de datos duplicados."
   ]
  },
  {
   "cell_type": "markdown",
   "metadata": {},
   "source": [
    "### Orders\n",
    "<a id=\"Orders\"></a>"
   ]
  },
  {
   "cell_type": "code",
   "execution_count": 10,
   "metadata": {},
   "outputs": [
    {
     "data": {
      "text/plain": [
       "Index(['transaction_id', 'visitor_id', 'date', 'revenue', 'group'], dtype='object')"
      ]
     },
     "execution_count": 10,
     "metadata": {},
     "output_type": "execute_result"
    }
   ],
   "source": [
    "# Cambiar los nombres de las columnas para agregar _ a las dos primeras columnas \n",
    "orders.rename(columns={\"transactionId\": \"transaction_id\", \"visitorId\": \"visitor_id\"}, inplace=True)\n",
    "orders.columns"
   ]
  },
  {
   "cell_type": "code",
   "execution_count": 11,
   "metadata": {},
   "outputs": [
    {
     "data": {
      "text/plain": [
       "0"
      ]
     },
     "execution_count": 11,
     "metadata": {},
     "output_type": "execute_result"
    }
   ],
   "source": [
    "# Comprobamos la existencia de duplicados\n",
    "orders.duplicated().sum()"
   ]
  },
  {
   "cell_type": "code",
   "execution_count": 12,
   "metadata": {},
   "outputs": [],
   "source": [
    "# Cambiamos el tipo de dato\n",
    "orders[\"date\"] = orders[\"date\"].map(lambda x: dt.datetime.strptime(x, \"%Y-%m-%d\"))"
   ]
  },
  {
   "cell_type": "code",
   "execution_count": 13,
   "metadata": {},
   "outputs": [
    {
     "name": "stdout",
     "output_type": "stream",
     "text": [
      "58\n"
     ]
    }
   ],
   "source": [
    "# Buscamos visitantes que entraron en ambos grupos \n",
    "# Filtrar los visitantes por grupo\n",
    "grup_a_orders = orders[orders[\"group\"] == \"A\"]\n",
    "grup_b_orders = orders[orders[\"group\"] == \"B\"]\n",
    "\n",
    "# Encontrar visitantes que están en ambos grupos\n",
    "duplicate_visitors_o = pd.merge(grup_a_orders, grup_b_orders, on=\"visitor_id\", how=\"inner\")\n",
    "\n",
    "# Mostrar los visitantes duplicados\n",
    "print(duplicate_visitors_o[\"visitor_id\"].nunique())"
   ]
  },
  {
   "cell_type": "code",
   "execution_count": 14,
   "metadata": {},
   "outputs": [
    {
     "name": "stdout",
     "output_type": "stream",
     "text": [
      "<class 'pandas.core.frame.DataFrame'>\n",
      "RangeIndex: 1016 entries, 0 to 1015\n",
      "Data columns (total 6 columns):\n",
      " #   Column          Non-Null Count  Dtype         \n",
      "---  ------          --------------  -----         \n",
      " 0   index           1016 non-null   int64         \n",
      " 1   transaction_id  1016 non-null   int64         \n",
      " 2   visitor_id      1016 non-null   int64         \n",
      " 3   date            1016 non-null   datetime64[ns]\n",
      " 4   revenue         1016 non-null   float64       \n",
      " 5   group           1016 non-null   object        \n",
      "dtypes: datetime64[ns](1), float64(1), int64(3), object(1)\n",
      "memory usage: 47.8+ KB\n"
     ]
    }
   ],
   "source": [
    "# Eliminar los visitantes duplicados del dataframe original\n",
    "df_orders = orders[~orders[\"visitor_id\"].isin(duplicate_visitors_o[\"visitor_id\"])]\n",
    "\n",
    "# Guardar el dataset limpio\n",
    "df_orders.to_csv(\"df_orders.csv\", index=False)\n",
    "df_orders = df_orders.reset_index()\n",
    "df_orders.info()"
   ]
  },
  {
   "cell_type": "markdown",
   "metadata": {},
   "source": [
    "Se realizó un cambio en los nombres de las columnas, se revisó la existencia de duplicados y se cambió el tipo de dato en la columna date. También se buscó la existencia de usuarios duplicados en ambos grupos (A o B) y se eliminaron."
   ]
  },
  {
   "cell_type": "markdown",
   "metadata": {},
   "source": [
    "### Visits\n",
    "<a id=\"Visits\"></a>"
   ]
  },
  {
   "cell_type": "code",
   "execution_count": 15,
   "metadata": {},
   "outputs": [
    {
     "data": {
      "text/plain": [
       "0"
      ]
     },
     "execution_count": 15,
     "metadata": {},
     "output_type": "execute_result"
    }
   ],
   "source": [
    "# Comprobamos la existencia de duplicados \n",
    "visits.duplicated().sum()"
   ]
  },
  {
   "cell_type": "code",
   "execution_count": 16,
   "metadata": {},
   "outputs": [],
   "source": [
    "# Cambiamos el tipo de dato\n",
    "visits[\"date\"] = visits[\"date\"].map(lambda x: dt.datetime.strptime(x, \"%Y-%m-%d\"))"
   ]
  },
  {
   "cell_type": "markdown",
   "metadata": {},
   "source": [
    "Se comprobó la existencia de datos duplicados y se cambió el tipo de dato de la columna date.  "
   ]
  },
  {
   "cell_type": "markdown",
   "metadata": {},
   "source": [
    "## Priorización de hipótesis \n",
    "<a id=\"Priorización de hipótesis\"></a>"
   ]
  },
  {
   "cell_type": "markdown",
   "metadata": {},
   "source": [
    "**Aplicar el framework ICE para priorizar hipótesis.**"
   ]
  },
  {
   "cell_type": "code",
   "execution_count": 17,
   "metadata": {},
   "outputs": [
    {
     "name": "stdout",
     "output_type": "stream",
     "text": [
      "                                          hypothesis        ICE\n",
      "8  Launch a promotion that gives users discounts ...  16.200000\n",
      "0  Add two new channels for attracting traffic. T...  13.333333\n",
      "7  Add a subscription form to all the main pages....  11.200000\n",
      "6  Show banners with current offers and sales on ...   8.000000\n",
      "2  Add product recommendation blocks to the store...   7.000000\n",
      "1  Launch your own delivery service. This will sh...   2.000000\n",
      "5  Add a customer review page. This will increase...   1.333333\n",
      "3  Change the category structure. This will incre...   1.125000\n",
      "4  Change the background color on the main page. ...   1.000000\n"
     ]
    }
   ],
   "source": [
    "# Aplicamos la fórmula correspondiente para ICE\n",
    "hypotheses[\"ICE\"] = (hypotheses[\"impact\"] * hypotheses[\"confidence\"]) / hypotheses[\"effort\"]\n",
    "\n",
    "print(hypotheses[[\"hypothesis\", \"ICE\"]].sort_values(by=\"ICE\", ascending=False))"
   ]
  },
  {
   "cell_type": "markdown",
   "metadata": {},
   "source": [
    "**Aplicar el framework RICE para priorizar hipótesis**"
   ]
  },
  {
   "cell_type": "code",
   "execution_count": 18,
   "metadata": {},
   "outputs": [
    {
     "name": "stdout",
     "output_type": "stream",
     "text": [
      "                                          hypothesis   RICE\n",
      "7  Add a subscription form to all the main pages....  112.0\n",
      "2  Add product recommendation blocks to the store...   56.0\n",
      "0  Add two new channels for attracting traffic. T...   40.0\n",
      "6  Show banners with current offers and sales on ...   40.0\n",
      "8  Launch a promotion that gives users discounts ...   16.2\n",
      "3  Change the category structure. This will incre...    9.0\n",
      "1  Launch your own delivery service. This will sh...    4.0\n",
      "5  Add a customer review page. This will increase...    4.0\n",
      "4  Change the background color on the main page. ...    3.0\n"
     ]
    }
   ],
   "source": [
    "# Aplicamos la fórmula correspondiente para RICE\n",
    "hypotheses[\"RICE\"] = (hypotheses[\"reach\"]*hypotheses[\"impact\"]*hypotheses[\"confidence\"])/hypotheses[\"effort\"]\n",
    "\n",
    "print(hypotheses[[\"hypothesis\", \"RICE\"]].sort_values(by=\"RICE\", ascending=False))"
   ]
  },
  {
   "cell_type": "markdown",
   "metadata": {},
   "source": [
    "AL aplicar la fórmula para obtener el puntaje ICE las hipótesis con un puntaje considerable fueron: \n",
    "- Lanzar una promoción que ofrezca descuentos a los usuarios\n",
    "- Añadir dos nuevos canales para atraer tráfico\n",
    "- Añadir un formulario de suscripción a todas las paginas principales\n",
    "Y al aplicar la fórmula para obtener el puntaje RICE las hipótesis con un puntaje considerable fueron:\n",
    "- Añadir un formulario de suscripción a todas las paginas principales\n",
    "- Agregar bloques de recomendación de productos a la tienda\n",
    "- Añadir dos nuevos canales para atraer tráfico\n",
    "\n",
    "Se puede observar que dos hipótesis coinciden en ambas fórmulas, por lo que podemos decir que las hipótesis en cuestión son lo suficientemente fuertes como para ser priorizadas y exploradas en mayor profundidad.\n",
    "Por lo cual se escoge la hipótesis que dice \"Añadir un formulario de suscripción a todas las paginas principales\", ya que esta tiene un alcance de 10, un impacto de 7, confianza de 8 y esfuerzo de 5. "
   ]
  },
  {
   "cell_type": "markdown",
   "metadata": {},
   "source": [
    "## Análisis del test A/B\n",
    "<a id=\"Análisis del test A/B\"></a>"
   ]
  },
  {
   "cell_type": "markdown",
   "metadata": {},
   "source": [
    "**Ingreso acumulado por grupo**"
   ]
  },
  {
   "cell_type": "code",
   "execution_count": 19,
   "metadata": {},
   "outputs": [
    {
     "name": "stdout",
     "output_type": "stream",
     "text": [
      "        date group  orders  buyers  revenue  visits\n",
      "0 2019-08-01     A      23      19   2266.6     719\n",
      "1 2019-08-01     B      17      17    967.2     713\n",
      "2 2019-08-02     A      42      36   3734.9    1338\n",
      "3 2019-08-02     B      40      39   3535.3    1294\n",
      "4 2019-08-03     A      66      60   5550.1    1845\n"
     ]
    }
   ],
   "source": [
    "# Agrupamos por fecha y grupo \n",
    "dates_groups = df_orders[[\"date\", \"group\"]].drop_duplicates()\n",
    "# Agregamos le número de usuarios a df_orders\n",
    "orders_aggregated = dates_groups.apply(\n",
    "    lambda x: df_orders[np.logical_and(df_orders[\"date\"] <= x[\"date\"], df_orders['group'] == x['group'])].agg({\n",
    "\"date\" : \"max\",\n",
    "\"group\" : \"max\",\n",
    "\"transaction_id\" : pd.Series.nunique,\n",
    "\"visitor_id\" : pd.Series.nunique,\n",
    "\"revenue\" : \"sum\"}), axis=1).sort_values(by=[\"date\",\"group\"])\n",
    "# Almacenamos grupo fecha y número de pedidos\n",
    "visitors_aggregated = dates_groups.apply(lambda x: visits[np.logical_and(visits[\"date\"] <= x[\"date\"], visits[\"group\"] == x[\"group\"])]\n",
    "                                        .agg({\"date\": \"max\", \"group\": \"max\", \"visits\": \"sum\"}), axis=1).sort_values(by=[\"date\", \"group\"])\n",
    "# Unimos las variables \n",
    "cumulative_data = orders_aggregated.merge(visitors_aggregated, left_on=[\"date\", \"group\"], right_on=[\"date\", \"group\"])\n",
    "cumulative_data.columns = [\"date\", \"group\", \"orders\", \"buyers\", \"revenue\", \"visits\"]\n",
    "print(cumulative_data.head())"
   ]
  },
  {
   "cell_type": "code",
   "execution_count": 20,
   "metadata": {},
   "outputs": [
    {
     "data": {
      "text/plain": [
       "<matplotlib.legend.Legend at 0x7f85444ce7f0>"
      ]
     },
     "execution_count": 20,
     "metadata": {},
     "output_type": "execute_result"
    },
    {
     "data": {
      "image/png": "[encoded data removed]",
      "text/plain": [
       "<Figure size 640x480 with 1 Axes>"
      ]
     },
     "metadata": {},
     "output_type": "display_data"
    }
   ],
   "source": [
    "# Separamos los datos por grupo \n",
    "cumulative_revenue_A = cumulative_data[cumulative_data[\"group\"] == \"A\"][[\"date\", \"revenue\", \"orders\"]]\n",
    "cumulative_revenue_B = cumulative_data[cumulative_data[\"group\"] == \"B\"][[\"date\", \"revenue\", \"orders\"]] \n",
    "# Gráfica de ingreso acumulado\n",
    "plt.plot(cumulative_revenue_A[\"date\"], cumulative_revenue_A[\"revenue\"], label=\"A\", color=\"#A2142F\")\n",
    "plt.plot(cumulative_revenue_B[\"date\"], cumulative_revenue_B[\"revenue\"], label=\"B\", color=\"#EDB120\")\n",
    "\n",
    "plt.title(\"Ingreso acumulado por grupo\")\n",
    "plt.xticks(rotation=45)\n",
    "plt.legend()"
   ]
  },
  {
   "cell_type": "markdown",
   "metadata": {},
   "source": [
    "Al inicio ambos grupos tienen incrementos durante toda la prueba, en los primeros 5 días los ingresos son similares, pero estos empiezan a cambiar desde el día 5 hasta el día 13, donde el grupo B obtiene mayores ingresos, para el día 13 los ingresos son demasiado similares. Del día 14 en adelante el grupo B aumenta son ingresos más que el grupo A hasta el final de la prueba."
   ]
  },
  {
   "cell_type": "markdown",
   "metadata": {},
   "source": [
    "**Tamaño del pedido promedio acumulado por grupo**"
   ]
  },
  {
   "cell_type": "code",
   "execution_count": 21,
   "metadata": {},
   "outputs": [
    {
     "data": {
      "text/plain": [
       "<matplotlib.legend.Legend at 0x7f85443f9dc0>"
      ]
     },
     "execution_count": 21,
     "metadata": {},
     "output_type": "execute_result"
    },
    {
     "data": {
      "image/png": "[encoded data removed]",
      "text/plain": [
       "<Figure size 640x480 with 1 Axes>"
      ]
     },
     "metadata": {},
     "output_type": "display_data"
    }
   ],
   "source": [
    "# Obtenemos el tamaño de pedido promedio acumulado\n",
    "plt.plot(cumulative_revenue_A[\"date\"], cumulative_revenue_A[\"revenue\"]/cumulative_revenue_A[\"orders\"], label=\"A\", color=\"#A2142F\")\n",
    "plt.plot(cumulative_revenue_B[\"date\"], cumulative_revenue_B[\"revenue\"]/cumulative_revenue_B[\"orders\"], label=\"B\", color=\"#EDB120\")\n",
    "\n",
    "plt.title(\"Tamaño de pedido promedio acumulado por grupo\")\n",
    "plt.xticks(rotation=45)\n",
    "plt.legend()"
   ]
  },
  {
   "cell_type": "markdown",
   "metadata": {},
   "source": [
    "El tamaño promedio del pedido para el grupo A después del día 5 comienza aumentar hasta aproximadamente el día 13, al finalizar este se estabiliza y tiene un mínimo incremento. Para el grupo B la gráfica muestra incrementos considerables durante toda la prueba en especial para el día 18 o 19 aproximadamente. "
   ]
  },
  {
   "cell_type": "markdown",
   "metadata": {},
   "source": [
    "**Diferencia relativa en el tamaño de pedido promedio acumulado para el grupo B en comparación con el grupo A**"
   ]
  },
  {
   "cell_type": "code",
   "execution_count": 22,
   "metadata": {},
   "outputs": [
    {
     "data": {
      "text/html": [
       "<div>\n",
       "<style scoped>\n",
       "    .dataframe tbody tr th:only-of-type {\n",
       "        vertical-align: middle;\n",
       "    }\n",
       "\n",
       "    .dataframe tbody tr th {\n",
       "        vertical-align: top;\n",
       "    }\n",
       "\n",
       "    .dataframe thead th {\n",
       "        text-align: right;\n",
       "    }\n",
       "</style>\n",
       "<table border=\"1\" class=\"dataframe\">\n",
       "  <thead>\n",
       "    <tr style=\"text-align: right;\">\n",
       "      <th></th>\n",
       "      <th>date</th>\n",
       "      <th>revenueA</th>\n",
       "      <th>ordersA</th>\n",
       "      <th>revenueB</th>\n",
       "      <th>ordersB</th>\n",
       "    </tr>\n",
       "  </thead>\n",
       "  <tbody>\n",
       "    <tr>\n",
       "      <th>0</th>\n",
       "      <td>2019-08-01</td>\n",
       "      <td>2266.6</td>\n",
       "      <td>23</td>\n",
       "      <td>967.2</td>\n",
       "      <td>17</td>\n",
       "    </tr>\n",
       "    <tr>\n",
       "      <th>1</th>\n",
       "      <td>2019-08-02</td>\n",
       "      <td>3734.9</td>\n",
       "      <td>42</td>\n",
       "      <td>3535.3</td>\n",
       "      <td>40</td>\n",
       "    </tr>\n",
       "    <tr>\n",
       "      <th>2</th>\n",
       "      <td>2019-08-03</td>\n",
       "      <td>5550.1</td>\n",
       "      <td>66</td>\n",
       "      <td>4606.9</td>\n",
       "      <td>54</td>\n",
       "    </tr>\n",
       "    <tr>\n",
       "      <th>3</th>\n",
       "      <td>2019-08-04</td>\n",
       "      <td>6225.6</td>\n",
       "      <td>77</td>\n",
       "      <td>6138.5</td>\n",
       "      <td>68</td>\n",
       "    </tr>\n",
       "    <tr>\n",
       "      <th>4</th>\n",
       "      <td>2019-08-05</td>\n",
       "      <td>7623.6</td>\n",
       "      <td>99</td>\n",
       "      <td>7587.8</td>\n",
       "      <td>89</td>\n",
       "    </tr>\n",
       "  </tbody>\n",
       "</table>\n",
       "</div>"
      ],
      "text/plain": [
       "        date  revenueA  ordersA  revenueB  ordersB\n",
       "0 2019-08-01    2266.6       23     967.2       17\n",
       "1 2019-08-02    3734.9       42    3535.3       40\n",
       "2 2019-08-03    5550.1       66    4606.9       54\n",
       "3 2019-08-04    6225.6       77    6138.5       68\n",
       "4 2019-08-05    7623.6       99    7587.8       89"
      ]
     },
     "execution_count": 22,
     "metadata": {},
     "output_type": "execute_result"
    }
   ],
   "source": [
    "# Unimos los ingresos acumulados de los dos grupos\n",
    "cumulative_revenue = cumulative_revenue_A.merge(cumulative_revenue_B, left_on=\"date\", right_on=\"date\", how=\"left\", suffixes=[\"A\", \"B\"])\n",
    "cumulative_revenue.head()"
   ]
  },
  {
   "cell_type": "code",
   "execution_count": 23,
   "metadata": {},
   "outputs": [
    {
     "data": {
      "text/plain": [
       "<matplotlib.lines.Line2D at 0x7f85443f9ca0>"
      ]
     },
     "execution_count": 23,
     "metadata": {},
     "output_type": "execute_result"
    },
    {
     "data": {
      "image/png": "[encoded data removed]",
      "text/plain": [
       "<Figure size 640x480 with 1 Axes>"
      ]
     },
     "metadata": {},
     "output_type": "display_data"
    }
   ],
   "source": [
    "# Gráfica de la diferencia relativa\n",
    "plt.plot(cumulative_revenue[\"date\"], (cumulative_revenue[\"revenueB\"]/cumulative_revenue[\"ordersB\"])/ (cumulative_revenue[\"revenueA\"]/cumulative_revenue[\"ordersA\"])-1, color=\"#A2142F\")\n",
    "\n",
    "plt.title(\"Diferencia relativa en el tamaño de pedido promedio acumulado para el grupo B en comparación con el grupo A\")\n",
    "plt.xticks(rotation=45)\n",
    "\n",
    "plt.axhline(y=0, color='black', linestyle='--')"
   ]
  },
  {
   "cell_type": "markdown",
   "metadata": {},
   "source": [
    "A lo largo del tiempo se encuentran con aumentos y disminuciones bastante notales, lo que significa que se encuentran algunos valores atípicos o pedidos que fueron más grandes en consideración con el promedio."
   ]
  },
  {
   "cell_type": "markdown",
   "metadata": {},
   "source": [
    "**Tasa de conversión de cada grupo como la relación entre los pedidos y el número de visitas de cada día.**"
   ]
  },
  {
   "cell_type": "code",
   "execution_count": 24,
   "metadata": {},
   "outputs": [
    {
     "name": "stdout",
     "output_type": "stream",
     "text": [
      "        date group  orders  buyers  revenue  visits  conversion\n",
      "0 2019-08-01     A      23      19   2266.6     719    0.031989\n",
      "2 2019-08-02     A      42      36   3734.9    1338    0.031390\n",
      "4 2019-08-03     A      66      60   5550.1    1845    0.035772\n",
      "6 2019-08-04     A      77      71   6225.6    2562    0.030055\n",
      "8 2019-08-05     A      99      92   7623.6    3318    0.029837\n",
      "        date group  orders  buyers  revenue  visits  conversion\n",
      "1 2019-08-01     B      17      17    967.2     713    0.023843\n",
      "3 2019-08-02     B      40      39   3535.3    1294    0.030912\n",
      "5 2019-08-03     B      54      53   4606.9    1803    0.029950\n",
      "7 2019-08-04     B      68      66   6138.5    2573    0.026428\n",
      "9 2019-08-05     B      89      87   7587.8    3280    0.027134\n"
     ]
    }
   ],
   "source": [
    "# Agregamos una columna para la tasa de convesión \n",
    "cumulative_data[\"conversion\"] = cumulative_data[\"orders\"]/cumulative_data[\"visits\"]\n",
    "cumulative_data_A = cumulative_data[cumulative_data[\"group\"] == \"A\"]\n",
    "cumulative_data_B = cumulative_data[cumulative_data[\"group\"] == \"B\"]\n",
    "print(cumulative_data_A.head())\n",
    "print(cumulative_data_B.head())"
   ]
  },
  {
   "cell_type": "markdown",
   "metadata": {},
   "source": [
    "**Tasas de conversión diarias de los dos grupos**"
   ]
  },
  {
   "cell_type": "code",
   "execution_count": 25,
   "metadata": {},
   "outputs": [
    {
     "data": {
      "text/plain": [
       "(18109.0, 18139.0, 0.0, 0.05)"
      ]
     },
     "execution_count": 25,
     "metadata": {},
     "output_type": "execute_result"
    },
    {
     "data": {
      "image/png": "[encoded data removed]",
      "text/plain": [
       "<Figure size 640x480 with 1 Axes>"
      ]
     },
     "metadata": {},
     "output_type": "display_data"
    }
   ],
   "source": [
    "# Gráfica de la tasa de coverisión diaria\n",
    "plt.plot(cumulative_data_A[\"date\"], cumulative_data_A[\"conversion\"], label=\"A\", color=\"#A2142F\")\n",
    "plt.plot(cumulative_data_B[\"date\"], cumulative_data_B[\"conversion\"], label=\"B\", color=\"#EDB120\")\n",
    "plt.legend()\n",
    "\n",
    "plt.title(\"Tasas de conversión diarias por grupo\")\n",
    "plt.xticks(rotation=45)\n",
    "plt.axis([pd.to_datetime(\"2019-08-01\"), pd.to_datetime(\"2019-08-31\"), 0, 0.05])"
   ]
  },
  {
   "cell_type": "markdown",
   "metadata": {},
   "source": [
    "Ambos grupos al inicio muestran un aumento, después del día 7 estos comienzan a estabilizarse, aunque el grupo B si tuvo un aumento en comparación del grupo A."
   ]
  },
  {
   "cell_type": "markdown",
   "metadata": {},
   "source": [
    "**Gráfico de dispersión del número de pedidos por usuario**"
   ]
  },
  {
   "cell_type": "code",
   "execution_count": 26,
   "metadata": {},
   "outputs": [
    {
     "name": "stdout",
     "output_type": "stream",
     "text": [
      "        user_id  orders\n",
      "908  3967698036       3\n",
      "55    249864742       3\n",
      "478  2108163459       3\n",
      "687  2988190573       3\n",
      "890  3908431265       3\n"
     ]
    }
   ],
   "source": [
    "# Obtenemos las ordenes hechas por los usuarios\n",
    "# Eliminamos las filas del grupo, día e ingresos\n",
    "# Agrupamos por usuario y obtenemos valores únicos \n",
    "orders_by_users = (\n",
    "    df_orders.drop([\"group\", \"revenue\", \"date\"], axis=1)\n",
    "    .groupby(\"visitor_id\", as_index=False)\n",
    "    .agg({\"transaction_id\": pd.Series.nunique})\n",
    ")\n",
    "orders_by_users.columns = [\"user_id\", \"orders\"]\n",
    "print(orders_by_users.sort_values(by=\"orders\", ascending=False).head())"
   ]
  },
  {
   "cell_type": "code",
   "execution_count": 27,
   "metadata": {},
   "outputs": [
    {
     "data": {
      "text/plain": [
       "Text(0.5, 1.0, 'Pedidos por usuario')"
      ]
     },
     "execution_count": 27,
     "metadata": {},
     "output_type": "execute_result"
    },
    {
     "data": {
      "image/png": "[encoded data removed]",
      "text/plain": [
       "<Figure size 640x480 with 1 Axes>"
      ]
     },
     "metadata": {},
     "output_type": "display_data"
    }
   ],
   "source": [
    "# Gráfico de dispersión \n",
    "x_values = pd.Series(range(0,len(orders_by_users)))\n",
    "plt.scatter(x_values, orders_by_users[\"orders\"], color=\"#A2142F\")\n",
    "\n",
    "plt.title(\"Pedidos por usuario\")"
   ]
  },
  {
   "cell_type": "markdown",
   "metadata": {},
   "source": [
    "La concentración de la mayoría de los datos se encuentra en el 1, lo que nos dice que la mayoría de las veces que se realizó un pedido solo fue de 1, empieza a disminuir los usuarios que solo hicieron un pedido y para los que hicieron 3 pedidos el numero disminuye aún más."
   ]
  },
  {
   "cell_type": "markdown",
   "metadata": {},
   "source": [
    "**Percentiles 95 y 99 para el número de pedidos por usuario y el punto en el cual un punto de datos se convierte en una anomalía.**"
   ]
  },
  {
   "cell_type": "code",
   "execution_count": 28,
   "metadata": {
    "scrolled": true
   },
   "outputs": [
    {
     "name": "stdout",
     "output_type": "stream",
     "text": [
      "[1. 2.]\n"
     ]
    }
   ],
   "source": [
    "# Calculamos los percentiles 95 y 99\n",
    "print(np.percentile(orders_by_users[\"orders\"], [95, 99]))"
   ]
  },
  {
   "cell_type": "markdown",
   "metadata": {},
   "source": [
    "Lo más notable que podemos observar es que no más del 1% de los pedidiso realizados por los usuarios es de 2 pedidos por usuario. El 95% de los usuarios solo realiza un pedido o menos. Los usuarios con más de dos pedidos se pueden considerar anomalías."
   ]
  },
  {
   "cell_type": "markdown",
   "metadata": {},
   "source": [
    "**Gráfico de dispersión de los precios de los pedidos**"
   ]
  },
  {
   "cell_type": "code",
   "execution_count": 47,
   "metadata": {},
   "outputs": [
    {
     "name": "stdout",
     "output_type": "stream",
     "text": [
      "      index  transaction_id  visitor_id       date  revenue group\n",
      "365     425       590470918  1920142716 2019-08-19  19920.4     B\n",
      "1015   1196      3936777065  2108080724 2019-08-15   3120.1     B\n",
      "971    1136       666610489  1307669133 2019-08-13   1425.8     A\n",
      "632     744      3668308183   888512513 2019-08-27   1335.6     B\n",
      "631     743      3603576309  4133034833 2019-08-09   1050.0     A\n"
     ]
    }
   ],
   "source": [
    "# Obtenemos los precios de los pedidos \n",
    "print(df_orders.sort_values(by=\"revenue\",ascending=False).head())"
   ]
  },
  {
   "cell_type": "code",
   "execution_count": 30,
   "metadata": {},
   "outputs": [
    {
     "data": {
      "text/plain": [
       "Text(0.5, 1.0, 'Precio de los pedidos')"
      ]
     },
     "execution_count": 30,
     "metadata": {},
     "output_type": "execute_result"
    },
    {
     "data": {
      "image/png": "[encoded data removed]",
      "text/plain": [
       "<Figure size 640x480 with 1 Axes>"
      ]
     },
     "metadata": {},
     "output_type": "display_data"
    }
   ],
   "source": [
    "# Gráfico de dispersión de los precios de los pedidos\n",
    "x_values = pd.Series(range(0,len(df_orders[\"revenue\"])))\n",
    "plt.scatter(x_values, df_orders[\"revenue\"], color=\"#A2142F\")\n",
    "plt.title(\"Precio de los pedidos\")"
   ]
  },
  {
   "cell_type": "markdown",
   "metadata": {},
   "source": [
    "Como se puede observar en el grafico la mayoría de los pedidos no pasa de los 2,500 dólares, y existe un solo pedido que llega casi a los 20,000 dólares y otro que llega a los 3,120.1 dólares."
   ]
  },
  {
   "cell_type": "markdown",
   "metadata": {},
   "source": [
    "**Percentiles 95 y 99 de los precios de los pedidos y el punto en el cual un punto de datos se convierte en una anomalía.**"
   ]
  },
  {
   "cell_type": "code",
   "execution_count": 31,
   "metadata": {},
   "outputs": [
    {
     "name": "stdout",
     "output_type": "stream",
     "text": [
      "[414.275 830.3  ]\n"
     ]
    }
   ],
   "source": [
    "# Calculamos los percentiles 95 y 99\n",
    "print(np.percentile(df_orders[\"revenue\"], [95, 99]))"
   ]
  },
  {
   "cell_type": "markdown",
   "metadata": {},
   "source": [
    "Podemos decir que solo el 5% de los pedidos cuesta más de 414.275 dólares y la mayoría del costo de los pedidos está por debajo de los 830.3 dólares. los datos se convierten en anomalías cuando superan los 830.3 dólares. "
   ]
  },
  {
   "cell_type": "markdown",
   "metadata": {},
   "source": [
    "**Significancia estadística de la diferencia en la conversión entre los grupos utilizando los datos en bruto**"
   ]
  },
  {
   "cell_type": "code",
   "execution_count": 42,
   "metadata": {},
   "outputs": [
    {
     "name": "stdout",
     "output_type": "stream",
     "text": [
      "0.011\n",
      "0.160\n"
     ]
    }
   ],
   "source": [
    "# Buscamos a los usuarios de ambos grupos con al menos un pedido\n",
    "orders_by_users_A = df_orders[df_orders[\"group\"]==\"A\"].groupby(\"visitor_id\", as_index=False).agg({\"transaction_id\": pd.Series.nunique})\n",
    "orders_by_users_A.columns = [\"visitor_id\", \"orders\"] \n",
    "orders_by_users_B = df_orders[df_orders[\"group\"]==\"B\"].groupby(\"visitor_id\", as_index=False).agg({\"transaction_id\": pd.Series.nunique})\n",
    "orders_by_users_B.columns = [\"visitor_id\", \"orders\"]\n",
    "\n",
    "sample_A = pd.concat([orders_by_users_A[\"orders\"],pd.Series(0, index=np.arange(visits[visits[\"group\"]==\"A\"][\"visits\"].sum() - len(orders_by_users_A[\"orders\"])), name=\"orders\")], axis=0)\n",
    "sample_B = pd.concat([orders_by_users_B[\"orders\"],pd.Series(0, index=np.arange(visits[visits[\"group\"]==\"B\"][\"visits\"].sum() - len(orders_by_users_B[\"orders\"])), name=\"orders\")], axis=0)\n",
    "print(\"{0:.3f}\".format(stats.mannwhitneyu(sample_A, sample_B)[1]))\n",
    "print(\"{0:.3f}\".format(sample_B.mean()/sample_A.mean()-1))"
   ]
  },
  {
   "cell_type": "markdown",
   "metadata": {},
   "source": [
    "El valor p de 0.011 no es mayor que 0.05, por lo que rechazamos la hipótesis nula. La diferencia de conversión entre los grupos A y B es de 16%."
   ]
  },
  {
   "cell_type": "markdown",
   "metadata": {},
   "source": [
    "**Significancia estadística de la diferencia en el tamaño promedio de pedido entre los grupos utilizando los datos en bruto**"
   ]
  },
  {
   "cell_type": "code",
   "execution_count": 43,
   "metadata": {},
   "outputs": [
    {
     "name": "stdout",
     "output_type": "stream",
     "text": [
      "0.888\n",
      "0.278\n"
     ]
    }
   ],
   "source": [
    "# Buscamos la significancia estadística con .mannwhitneyu\n",
    "print(\"{0:.3f}\".format(stats.mannwhitneyu(orders[orders[\"group\"]==\"A\"][\"revenue\"], df_orders[df_orders[\"group\"]==\"B\"][\"revenue\"])[1]))\n",
    "print(\"{0:.3f}\".format(df_orders[df_orders[\"group\"]==\"B\"][\"revenue\"].mean()/df_orders[df_orders[\"group\"]==\"A\"][\"revenue\"].mean()-1))"
   ]
  },
  {
   "cell_type": "markdown",
   "metadata": {},
   "source": [
    "El valor p que es de 0.888 es mayor que 0.05. La diferencia en el tamaño promedio de pedido entre los grupos es de 27.8%. "
   ]
  },
  {
   "cell_type": "markdown",
   "metadata": {},
   "source": [
    "**Significancia estadística de la diferencia en la conversión entre los grupos utilizando los datos filtrados**"
   ]
  },
  {
   "cell_type": "code",
   "execution_count": 44,
   "metadata": {},
   "outputs": [
    {
     "name": "stdout",
     "output_type": "stream",
     "text": [
      "Total de usuarios anormales 7\n",
      "33      249864742\n",
      "58      611059232\n",
      "211    2108163459\n",
      "347    2742574263\n",
      "310    2988190573\n",
      "Name: visitor_id, dtype: int64\n"
     ]
    }
   ],
   "source": [
    "# Eliminamos las anomalías de los datos\n",
    "# Pedidos que osn mayores que dos\n",
    "# Gasto mayor a 1000\n",
    "users_with_many_orders = pd.concat([orders_by_users_A[orders_by_users_A[\"orders\"] > 2][\"visitor_id\"], orders_by_users_B[orders_by_users_B[\"orders\"] > 2][\"visitor_id\"]], axis = 0)\n",
    "users_with_expensive_orders = df_orders[df_orders[\"revenue\"] > 1000][\"visitor_id\"]\n",
    "abnormal_users = pd.concat([users_with_many_orders, users_with_many_orders], axis = 0).drop_duplicates().sort_values()\n",
    "print(\"Total de usuarios anormales\", abnormal_users.count())\n",
    "print(abnormal_users.head())"
   ]
  },
  {
   "cell_type": "code",
   "execution_count": 45,
   "metadata": {},
   "outputs": [
    {
     "name": "stdout",
     "output_type": "stream",
     "text": [
      "0.008\n",
      "0.185\n"
     ]
    }
   ],
   "source": [
    "# Eliminamos los datos de las anomalías\n",
    "sample_A_filtered = pd.concat([orders_by_users_A[np.logical_not(orders_by_users_A[\"visitor_id\"].isin(abnormal_users))][\"orders\"],\n",
    "                               pd.Series(0, index=np.arange(visits[visits[\"group\"]==\"A\"][\"visits\"].sum() - len(orders_by_users_A[\"orders\"])),name=\"orders\",),],axis=0)\n",
    "sample_B_filtered = pd.concat([orders_by_users_B[np.logical_not(orders_by_users_B[\"visitor_id\"].isin(abnormal_users))][\"orders\"],\n",
    "                               pd.Series(0, index=np.arange(visits[visits[\"group\"]==\"B\"]['visits'].sum() - len(orders_by_users_B[\"orders\"])),name=\"orders\",),],axis=0)\n",
    "\n",
    "print(\"{0:.3f}\".format(stats.mannwhitneyu(sample_A_filtered, sample_B_filtered)[1]))\n",
    "print(\"{0:.3f}\".format(sample_B_filtered.mean()/sample_A_filtered.mean()-1))"
   ]
  },
  {
   "cell_type": "markdown",
   "metadata": {},
   "source": [
    "El valor p de 0.008 es mucho menor que 0.05, existen diferencias significativas entre las distribuciones de los dos grupos comparados, la diferencia de conversión entre los grupos con los datos filtrados es de 18.4%. En comparación con los datos no filtrados el porcentaje  aumento un 2.5%."
   ]
  },
  {
   "cell_type": "markdown",
   "metadata": {},
   "source": [
    "**Significancia estadística de la diferencia en el tamaño promedio de pedido entre los grupos utilizando los datos filtrados**"
   ]
  },
  {
   "cell_type": "code",
   "execution_count": 41,
   "metadata": {},
   "outputs": [
    {
     "name": "stdout",
     "output_type": "stream",
     "text": [
      "0.749\n",
      "0.279\n"
     ]
    }
   ],
   "source": [
    "# Eliminamos los datos con anomalías \n",
    "print(\"{0:.3f}\".format(stats.mannwhitneyu(df_orders[np.logical_and(df_orders[\"group\"]==\"A\",\n",
    "        np.logical_not(df_orders[\"visitor_id\"].isin(abnormal_users)))][\"revenue\"],df_orders[np.logical_and(df_orders[\"group\"]==\"B\",\n",
    "        np.logical_not(df_orders[\"visitor_id\"].isin(abnormal_users)))][\"revenue\"])[1]))\n",
    "print(\"{0:.3f}\".format(df_orders[np.logical_and(df_orders[\"group\"]==\"B\",\n",
    "        np.logical_not(df_orders[\"visitor_id\"].isin(abnormal_users)))][\"revenue\"].mean()/df_orders[np.logical_and(df_orders[\"group\"]==\"A\",\n",
    "        np.logical_not(df_orders[\"visitor_id\"].isin(abnormal_users)))][\"revenue\"].mean()-1))"
   ]
  },
  {
   "cell_type": "markdown",
   "metadata": {},
   "source": [
    "El Valor p de 0.749 es significativamente mayor que 0.05, y la diferencia en el tamaño promedio de pedido con los datos filtrados es de 27.9%, en comparación con los datos no filtrados esta diferencia aumenot un 0.1%."
   ]
  },
  {
   "cell_type": "markdown",
   "metadata": {},
   "source": [
    "## Conclusión \n",
    "<a id=\"Conclusión\"></a>"
   ]
  },
  {
   "cell_type": "markdown",
   "metadata": {},
   "source": [
    "Al rechazar la hipótesis nula en el test A/B, podemos concluir que existe evidencia estadística suficiente para decir que existe una diferencia significativa entre las dos variantes (grupo A y grupo B). Se concluye que en la prueba el grupo B es el grupo líder, al rechazar la hipótesis nula que nos dice que existen diferencias significativas entre las distribuciones de los dos grupos comparados, por lo que no podemos decir que no existe tal diferencia. Además, no se puede continuar con la prueba debido a que el tiempo en el que se realizó la prueba es más de tres semanas y que son poco más de 1000 datos.\n",
    "\n",
    "Es por estos criterios que concluimos que tenemos un grupo líder, y para concluir que el grupo líder es el grupo B tomamos en cuenta en análisis que se llevó a cabo en la prueba, el ingreso acumulado por grupo donde se observa que el grupo B es el que cuenta con un ingreso más elevado que el grupo A y que este sigue creciendo a lo largo de la prueba, también se toma en cuenta el tamaño promedio de pedido acumulado por grupo que aunque la primera mitad de la prueba son similares este tiende a aumentar y por último se toma en cuenta la tasa de conversión que aunque al inicio muestra un pico de ascenso y descenso este aumenta más que el grupo A y se estabiliza. \n",
    "\n",
    "Así es como se concluye que el grupo B es el grupo líder."
   ]
  }
 ],
 "metadata": {
  "ExecuteTimeLog": [
   {
    "duration": 4807,
    "start_time": "2024-08-21T17:19:00.199Z"
   },
   {
    "duration": 23,
    "start_time": "2024-08-21T17:19:08.076Z"
   },
   {
    "duration": 19,
    "start_time": "2024-08-21T17:27:46.782Z"
   },
   {
    "duration": 386,
    "start_time": "2024-08-21T17:29:02.136Z"
   },
   {
    "duration": 18,
    "start_time": "2024-08-21T17:29:20.082Z"
   },
   {
    "duration": 7,
    "start_time": "2024-08-21T17:29:22.362Z"
   },
   {
    "duration": 5,
    "start_time": "2024-08-21T17:33:52.834Z"
   },
   {
    "duration": 9,
    "start_time": "2024-08-21T17:34:30.356Z"
   },
   {
    "duration": 9,
    "start_time": "2024-08-21T17:38:28.328Z"
   },
   {
    "duration": 22,
    "start_time": "2024-08-21T17:39:05.124Z"
   },
   {
    "duration": 20,
    "start_time": "2024-08-21T17:39:36.402Z"
   },
   {
    "duration": 13,
    "start_time": "2024-08-21T17:42:33.089Z"
   },
   {
    "duration": 11,
    "start_time": "2024-08-21T17:42:50.350Z"
   },
   {
    "duration": 10,
    "start_time": "2024-08-21T17:43:21.210Z"
   },
   {
    "duration": 8,
    "start_time": "2024-08-21T17:45:35.929Z"
   },
   {
    "duration": 6,
    "start_time": "2024-08-21T17:45:41.214Z"
   },
   {
    "duration": 8,
    "start_time": "2024-08-21T17:49:25.419Z"
   },
   {
    "duration": 8,
    "start_time": "2024-08-21T17:50:06.006Z"
   },
   {
    "duration": 8,
    "start_time": "2024-08-21T17:50:39.289Z"
   },
   {
    "duration": 16,
    "start_time": "2024-08-21T18:19:24.981Z"
   },
   {
    "duration": 33,
    "start_time": "2024-08-21T18:21:52.680Z"
   },
   {
    "duration": 43,
    "start_time": "2024-08-21T18:22:08.153Z"
   },
   {
    "duration": 38,
    "start_time": "2024-08-21T18:23:16.930Z"
   },
   {
    "duration": 4931,
    "start_time": "2024-08-21T19:37:33.347Z"
   },
   {
    "duration": 431,
    "start_time": "2024-08-21T19:37:42.254Z"
   },
   {
    "duration": 19,
    "start_time": "2024-08-21T19:37:49.631Z"
   },
   {
    "duration": 16,
    "start_time": "2024-08-21T19:37:54.145Z"
   },
   {
    "duration": 20,
    "start_time": "2024-08-21T19:37:57.285Z"
   },
   {
    "duration": 12,
    "start_time": "2024-08-21T19:37:59.860Z"
   },
   {
    "duration": 18,
    "start_time": "2024-08-21T19:38:03.285Z"
   },
   {
    "duration": 11,
    "start_time": "2024-08-21T19:38:12.564Z"
   },
   {
    "duration": 7,
    "start_time": "2024-08-21T19:38:22.457Z"
   },
   {
    "duration": 8,
    "start_time": "2024-08-21T19:38:23.377Z"
   },
   {
    "duration": 8,
    "start_time": "2024-08-21T19:38:28.362Z"
   },
   {
    "duration": 9,
    "start_time": "2024-08-21T19:38:30.452Z"
   },
   {
    "duration": 15,
    "start_time": "2024-08-21T19:38:31.545Z"
   },
   {
    "duration": 37,
    "start_time": "2024-08-21T19:38:33.601Z"
   },
   {
    "duration": 45,
    "start_time": "2024-08-21T19:41:06.138Z"
   },
   {
    "duration": 7,
    "start_time": "2024-08-21T19:47:56.851Z"
   },
   {
    "duration": 17,
    "start_time": "2024-08-21T19:48:39.234Z"
   },
   {
    "duration": 11,
    "start_time": "2024-08-21T19:52:32.302Z"
   },
   {
    "duration": 7,
    "start_time": "2024-08-21T20:01:42.815Z"
   },
   {
    "duration": 13,
    "start_time": "2024-08-21T20:20:37.142Z"
   },
   {
    "duration": 14,
    "start_time": "2024-08-21T20:22:04.045Z"
   },
   {
    "duration": 34,
    "start_time": "2024-08-21T20:22:12.440Z"
   },
   {
    "duration": 15,
    "start_time": "2024-08-21T20:22:31.135Z"
   },
   {
    "duration": 7,
    "start_time": "2024-08-21T20:28:55.272Z"
   },
   {
    "duration": 6,
    "start_time": "2024-08-21T20:29:26.373Z"
   },
   {
    "duration": 328,
    "start_time": "2024-08-21T20:31:30.093Z"
   },
   {
    "duration": 4,
    "start_time": "2024-08-21T20:31:58.024Z"
   },
   {
    "duration": 250,
    "start_time": "2024-08-21T20:32:07.115Z"
   },
   {
    "duration": 114,
    "start_time": "2024-08-21T20:34:14.250Z"
   },
   {
    "duration": 117,
    "start_time": "2024-08-21T20:35:01.745Z"
   },
   {
    "duration": 918,
    "start_time": "2024-08-21T23:19:21.841Z"
   },
   {
    "duration": 23,
    "start_time": "2024-08-21T23:19:25.166Z"
   },
   {
    "duration": 24,
    "start_time": "2024-08-21T23:19:27.887Z"
   },
   {
    "duration": 22,
    "start_time": "2024-08-21T23:19:32.421Z"
   },
   {
    "duration": 12,
    "start_time": "2024-08-21T23:19:34.655Z"
   },
   {
    "duration": 20,
    "start_time": "2024-08-21T23:19:36.435Z"
   },
   {
    "duration": 10,
    "start_time": "2024-08-21T23:19:38.878Z"
   },
   {
    "duration": 7,
    "start_time": "2024-08-21T23:19:43.215Z"
   },
   {
    "duration": 7,
    "start_time": "2024-08-21T23:19:44.182Z"
   },
   {
    "duration": 6,
    "start_time": "2024-08-21T23:19:47.073Z"
   },
   {
    "duration": 10,
    "start_time": "2024-08-21T23:19:47.884Z"
   },
   {
    "duration": 839,
    "start_time": "2024-08-21T23:19:52.594Z"
   },
   {
    "duration": 20,
    "start_time": "2024-08-21T23:21:21.855Z"
   },
   {
    "duration": 21,
    "start_time": "2024-08-21T23:21:27.915Z"
   },
   {
    "duration": 45,
    "start_time": "2024-08-21T23:21:29.112Z"
   },
   {
    "duration": 7,
    "start_time": "2024-08-21T23:21:33.140Z"
   },
   {
    "duration": 18,
    "start_time": "2024-08-21T23:22:16.211Z"
   },
   {
    "duration": 12,
    "start_time": "2024-08-21T23:22:20.479Z"
   },
   {
    "duration": 14,
    "start_time": "2024-08-21T23:37:09.924Z"
   },
   {
    "duration": 893,
    "start_time": "2024-08-21T23:38:39.221Z"
   },
   {
    "duration": 20,
    "start_time": "2024-08-21T23:39:13.854Z"
   },
   {
    "duration": 21,
    "start_time": "2024-08-21T23:39:58.334Z"
   },
   {
    "duration": 12,
    "start_time": "2024-08-21T23:42:53.173Z"
   },
   {
    "duration": 4201,
    "start_time": "2024-08-21T23:51:01.005Z"
   },
   {
    "duration": 13,
    "start_time": "2024-08-22T00:27:03.630Z"
   },
   {
    "duration": 719,
    "start_time": "2024-08-22T00:27:13.249Z"
   },
   {
    "duration": 4040,
    "start_time": "2024-08-22T00:28:25.026Z"
   },
   {
    "duration": 4013,
    "start_time": "2024-08-22T00:29:00.438Z"
   },
   {
    "duration": 6,
    "start_time": "2024-08-22T00:31:06.342Z"
   },
   {
    "duration": 4026,
    "start_time": "2024-08-22T00:31:15.339Z"
   },
   {
    "duration": 4016,
    "start_time": "2024-08-22T00:32:17.404Z"
   },
   {
    "duration": 6117,
    "start_time": "2024-08-22T00:33:28.152Z"
   },
   {
    "duration": 6202,
    "start_time": "2024-08-22T00:33:49.778Z"
   },
   {
    "duration": 6066,
    "start_time": "2024-08-22T00:35:20.545Z"
   },
   {
    "duration": 407,
    "start_time": "2024-08-22T00:35:46.539Z"
   },
   {
    "duration": 299,
    "start_time": "2024-08-22T00:44:01.206Z"
   },
   {
    "duration": 334,
    "start_time": "2024-08-22T00:45:30.488Z"
   },
   {
    "duration": 293,
    "start_time": "2024-08-22T00:48:26.198Z"
   },
   {
    "duration": 308,
    "start_time": "2024-08-22T00:48:59.006Z"
   },
   {
    "duration": 287,
    "start_time": "2024-08-22T00:49:25.704Z"
   },
   {
    "duration": 393,
    "start_time": "2024-08-22T00:49:40.951Z"
   },
   {
    "duration": 30,
    "start_time": "2024-08-22T01:02:55.054Z"
   },
   {
    "duration": 265,
    "start_time": "2024-08-22T01:03:16.162Z"
   },
   {
    "duration": 20,
    "start_time": "2024-08-22T01:11:59.513Z"
   },
   {
    "duration": 29,
    "start_time": "2024-08-22T01:20:29.702Z"
   },
   {
    "duration": 422,
    "start_time": "2024-08-22T01:20:40.406Z"
   },
   {
    "duration": 413,
    "start_time": "2024-08-22T01:21:05.802Z"
   },
   {
    "duration": 315,
    "start_time": "2024-08-22T01:22:41.229Z"
   },
   {
    "duration": 398,
    "start_time": "2024-08-22T01:22:58.264Z"
   },
   {
    "duration": 7,
    "start_time": "2024-08-22T01:26:15.565Z"
   },
   {
    "duration": 20,
    "start_time": "2024-08-22T01:28:01.994Z"
   },
   {
    "duration": 17,
    "start_time": "2024-08-22T01:28:35.626Z"
   },
   {
    "duration": 6,
    "start_time": "2024-08-22T01:30:35.634Z"
   },
   {
    "duration": 5,
    "start_time": "2024-08-22T01:31:34.774Z"
   },
   {
    "duration": 5,
    "start_time": "2024-08-22T01:31:59.086Z"
   },
   {
    "duration": 4,
    "start_time": "2024-08-22T01:32:08.190Z"
   },
   {
    "duration": 379,
    "start_time": "2024-08-22T01:34:46.473Z"
   },
   {
    "duration": 250,
    "start_time": "2024-08-22T01:35:36.827Z"
   },
   {
    "duration": 264,
    "start_time": "2024-08-22T01:36:27.923Z"
   },
   {
    "duration": 262,
    "start_time": "2024-08-22T01:36:45.110Z"
   },
   {
    "duration": 260,
    "start_time": "2024-08-22T01:39:19.728Z"
   },
   {
    "duration": 846,
    "start_time": "2024-08-22T01:40:17.323Z"
   },
   {
    "duration": 257,
    "start_time": "2024-08-22T01:40:33.707Z"
   },
   {
    "duration": 270,
    "start_time": "2024-08-22T01:40:56.436Z"
   },
   {
    "duration": 3,
    "start_time": "2024-08-22T01:54:42.440Z"
   },
   {
    "duration": 5014,
    "start_time": "2024-08-22T22:01:54.616Z"
   },
   {
    "duration": 25,
    "start_time": "2024-08-22T22:02:03.244Z"
   },
   {
    "duration": 15,
    "start_time": "2024-08-22T22:02:04.980Z"
   },
   {
    "duration": 21,
    "start_time": "2024-08-22T22:02:07.201Z"
   },
   {
    "duration": 12,
    "start_time": "2024-08-22T22:02:08.796Z"
   },
   {
    "duration": 21,
    "start_time": "2024-08-22T22:02:10.137Z"
   },
   {
    "duration": 9,
    "start_time": "2024-08-22T22:02:11.142Z"
   },
   {
    "duration": 7,
    "start_time": "2024-08-22T22:02:15.803Z"
   },
   {
    "duration": 7,
    "start_time": "2024-08-22T22:02:16.513Z"
   },
   {
    "duration": 7,
    "start_time": "2024-08-22T22:02:18.825Z"
   },
   {
    "duration": 9,
    "start_time": "2024-08-22T22:02:19.334Z"
   },
   {
    "duration": 20,
    "start_time": "2024-08-22T22:02:19.916Z"
   },
   {
    "duration": 15,
    "start_time": "2024-08-22T22:02:21.695Z"
   },
   {
    "duration": 47,
    "start_time": "2024-08-22T22:02:23.684Z"
   },
   {
    "duration": 10,
    "start_time": "2024-08-22T22:02:25.539Z"
   },
   {
    "duration": 5,
    "start_time": "2024-08-22T22:02:26.049Z"
   },
   {
    "duration": 11,
    "start_time": "2024-08-22T22:02:29.029Z"
   },
   {
    "duration": 10,
    "start_time": "2024-08-22T22:02:33.777Z"
   },
   {
    "duration": 434,
    "start_time": "2024-08-22T22:02:39.772Z"
   },
   {
    "duration": 314,
    "start_time": "2024-08-22T22:02:43.325Z"
   },
   {
    "duration": 269,
    "start_time": "2024-08-22T22:02:49.337Z"
   },
   {
    "duration": 19,
    "start_time": "2024-08-22T22:02:54.701Z"
   },
   {
    "duration": 416,
    "start_time": "2024-08-22T22:02:56.083Z"
   },
   {
    "duration": 17,
    "start_time": "2024-08-22T22:03:00.388Z"
   },
   {
    "duration": 269,
    "start_time": "2024-08-22T22:03:03.826Z"
   },
   {
    "duration": 9,
    "start_time": "2024-08-22T22:08:34.244Z"
   },
   {
    "duration": 220,
    "start_time": "2024-08-22T22:12:13.935Z"
   },
   {
    "duration": 217,
    "start_time": "2024-08-22T22:12:23.357Z"
   },
   {
    "duration": 213,
    "start_time": "2024-08-22T22:13:37.222Z"
   },
   {
    "duration": 278,
    "start_time": "2024-08-22T22:18:36.837Z"
   },
   {
    "duration": 200,
    "start_time": "2024-08-22T22:21:40.388Z"
   },
   {
    "duration": 6,
    "start_time": "2024-08-22T22:23:42.243Z"
   },
   {
    "duration": 10,
    "start_time": "2024-08-22T22:28:03.145Z"
   },
   {
    "duration": 418,
    "start_time": "2024-08-22T22:29:41.983Z"
   },
   {
    "duration": 217,
    "start_time": "2024-08-22T22:29:51.949Z"
   },
   {
    "duration": 25,
    "start_time": "2024-08-22T22:30:41.471Z"
   },
   {
    "duration": 5,
    "start_time": "2024-08-22T22:30:48.617Z"
   },
   {
    "duration": 248,
    "start_time": "2024-08-22T22:42:26.028Z"
   },
   {
    "duration": 239,
    "start_time": "2024-08-22T22:42:38.052Z"
   },
   {
    "duration": 252,
    "start_time": "2024-08-22T22:42:45.296Z"
   },
   {
    "duration": 15,
    "start_time": "2024-08-22T22:45:01.837Z"
   },
   {
    "duration": 6,
    "start_time": "2024-08-23T01:34:47.158Z"
   },
   {
    "duration": 4930,
    "start_time": "2024-08-23T17:18:04.067Z"
   },
   {
    "duration": 32,
    "start_time": "2024-08-23T17:18:09.001Z"
   },
   {
    "duration": 15,
    "start_time": "2024-08-23T17:18:09.036Z"
   },
   {
    "duration": 24,
    "start_time": "2024-08-23T17:18:12.582Z"
   },
   {
    "duration": 12,
    "start_time": "2024-08-23T17:18:14.759Z"
   },
   {
    "duration": 20,
    "start_time": "2024-08-23T17:18:15.323Z"
   },
   {
    "duration": 10,
    "start_time": "2024-08-23T17:18:17.968Z"
   },
   {
    "duration": 8,
    "start_time": "2024-08-23T17:19:32.205Z"
   },
   {
    "duration": 10,
    "start_time": "2024-08-23T17:19:34.406Z"
   },
   {
    "duration": 8,
    "start_time": "2024-08-23T17:19:36.810Z"
   },
   {
    "duration": 11,
    "start_time": "2024-08-23T17:19:37.528Z"
   },
   {
    "duration": 20,
    "start_time": "2024-08-23T17:19:38.451Z"
   },
   {
    "duration": 15,
    "start_time": "2024-08-23T17:19:39.597Z"
   },
   {
    "duration": 45,
    "start_time": "2024-08-23T17:19:40.622Z"
   },
   {
    "duration": 8,
    "start_time": "2024-08-23T17:19:43.783Z"
   },
   {
    "duration": 8,
    "start_time": "2024-08-23T17:19:45.897Z"
   },
   {
    "duration": 17,
    "start_time": "2024-08-23T17:20:17.645Z"
   },
   {
    "duration": 12,
    "start_time": "2024-08-23T17:20:22.083Z"
   },
   {
    "duration": 422,
    "start_time": "2024-08-23T17:21:25.086Z"
   },
   {
    "duration": 303,
    "start_time": "2024-08-23T17:21:25.996Z"
   },
   {
    "duration": 273,
    "start_time": "2024-08-23T17:21:34.066Z"
   },
   {
    "duration": 19,
    "start_time": "2024-08-23T17:21:37.966Z"
   },
   {
    "duration": 415,
    "start_time": "2024-08-23T17:21:39.823Z"
   },
   {
    "duration": 19,
    "start_time": "2024-08-23T17:21:43.736Z"
   },
   {
    "duration": 280,
    "start_time": "2024-08-23T17:21:46.364Z"
   },
   {
    "duration": 256,
    "start_time": "2024-08-23T17:21:50.694Z"
   },
   {
    "duration": 207,
    "start_time": "2024-08-23T17:21:52.508Z"
   },
   {
    "duration": 5,
    "start_time": "2024-08-23T17:22:14.811Z"
   },
   {
    "duration": 11,
    "start_time": "2024-08-23T17:22:23.481Z"
   },
   {
    "duration": 273,
    "start_time": "2024-08-23T17:22:24.447Z"
   },
   {
    "duration": 6,
    "start_time": "2024-08-23T17:22:41.459Z"
   },
   {
    "duration": 264,
    "start_time": "2024-08-23T17:22:50.126Z"
   },
   {
    "duration": 17,
    "start_time": "2024-08-23T17:22:53.585Z"
   },
   {
    "duration": 6,
    "start_time": "2024-08-23T18:11:28.002Z"
   },
   {
    "duration": 6,
    "start_time": "2024-08-23T18:11:48.963Z"
   },
   {
    "duration": 14,
    "start_time": "2024-08-23T18:30:12.531Z"
   },
   {
    "duration": 11,
    "start_time": "2024-08-23T18:30:40.604Z"
   },
   {
    "duration": 11,
    "start_time": "2024-08-23T18:30:49.242Z"
   },
   {
    "duration": 12,
    "start_time": "2024-08-23T18:31:10.329Z"
   },
   {
    "duration": 12,
    "start_time": "2024-08-23T18:31:17.863Z"
   },
   {
    "duration": 12,
    "start_time": "2024-08-23T18:32:00.477Z"
   },
   {
    "duration": 11,
    "start_time": "2024-08-23T18:36:39.263Z"
   },
   {
    "duration": 6,
    "start_time": "2024-08-23T18:38:56.019Z"
   },
   {
    "duration": 1079,
    "start_time": "2024-08-23T18:41:53.392Z"
   },
   {
    "duration": 74,
    "start_time": "2024-08-23T18:42:10.295Z"
   },
   {
    "duration": 41,
    "start_time": "2024-08-23T18:42:49.879Z"
   },
   {
    "duration": 38,
    "start_time": "2024-08-23T18:42:57.954Z"
   },
   {
    "duration": 39,
    "start_time": "2024-08-23T18:46:42.863Z"
   },
   {
    "duration": 4904,
    "start_time": "2024-08-23T22:26:01.640Z"
   },
   {
    "duration": 22,
    "start_time": "2024-08-23T22:26:06.548Z"
   },
   {
    "duration": 14,
    "start_time": "2024-08-23T22:26:09.386Z"
   },
   {
    "duration": 23,
    "start_time": "2024-08-23T22:26:11.631Z"
   },
   {
    "duration": 12,
    "start_time": "2024-08-23T22:26:13.655Z"
   },
   {
    "duration": 20,
    "start_time": "2024-08-23T22:26:15.528Z"
   },
   {
    "duration": 10,
    "start_time": "2024-08-23T22:26:17.867Z"
   },
   {
    "duration": 7,
    "start_time": "2024-08-23T22:26:20.453Z"
   },
   {
    "duration": 8,
    "start_time": "2024-08-23T22:26:21.385Z"
   },
   {
    "duration": 7,
    "start_time": "2024-08-23T22:26:24.235Z"
   },
   {
    "duration": 8,
    "start_time": "2024-08-23T22:26:25.053Z"
   },
   {
    "duration": 19,
    "start_time": "2024-08-23T22:26:25.858Z"
   },
   {
    "duration": 14,
    "start_time": "2024-08-23T22:26:27.482Z"
   },
   {
    "duration": 53,
    "start_time": "2024-08-23T22:26:28.073Z"
   },
   {
    "duration": 8,
    "start_time": "2024-08-23T22:26:30.923Z"
   },
   {
    "duration": 6,
    "start_time": "2024-08-23T22:26:31.523Z"
   },
   {
    "duration": 10,
    "start_time": "2024-08-23T22:26:35.489Z"
   },
   {
    "duration": 10,
    "start_time": "2024-08-23T22:26:40.385Z"
   },
   {
    "duration": 442,
    "start_time": "2024-08-23T22:38:20.667Z"
   },
   {
    "duration": 317,
    "start_time": "2024-08-23T22:38:22.354Z"
   },
   {
    "duration": 269,
    "start_time": "2024-08-23T22:38:41.192Z"
   },
   {
    "duration": 18,
    "start_time": "2024-08-23T22:38:56.575Z"
   },
   {
    "duration": 379,
    "start_time": "2024-08-23T22:38:58.253Z"
   },
   {
    "duration": 17,
    "start_time": "2024-08-23T22:40:46.044Z"
   },
   {
    "duration": 279,
    "start_time": "2024-08-23T22:41:04.567Z"
   },
   {
    "duration": 193,
    "start_time": "2024-08-23T22:41:17.976Z"
   },
   {
    "duration": 195,
    "start_time": "2024-08-23T22:41:21.920Z"
   },
   {
    "duration": 7,
    "start_time": "2024-08-23T22:41:27.008Z"
   },
   {
    "duration": 9,
    "start_time": "2024-08-23T22:41:40.062Z"
   },
   {
    "duration": 207,
    "start_time": "2024-08-23T22:41:41.416Z"
   },
   {
    "duration": 5,
    "start_time": "2024-08-23T22:42:17.216Z"
   },
   {
    "duration": 251,
    "start_time": "2024-08-23T22:42:31.529Z"
   },
   {
    "duration": 13,
    "start_time": "2024-08-23T22:42:41.348Z"
   },
   {
    "duration": 16,
    "start_time": "2024-08-23T22:45:06.922Z"
   },
   {
    "duration": 39,
    "start_time": "2024-08-23T22:45:15.896Z"
   },
   {
    "duration": 1313,
    "start_time": "2024-08-23T22:45:27.710Z"
   },
   {
    "duration": 5,
    "start_time": "2024-08-23T22:45:58.546Z"
   },
   {
    "duration": 10,
    "start_time": "2024-08-23T22:50:03.181Z"
   },
   {
    "duration": 17,
    "start_time": "2024-08-23T22:50:10.106Z"
   },
   {
    "duration": 48,
    "start_time": "2024-08-23T22:50:16.183Z"
   },
   {
    "duration": 25,
    "start_time": "2024-08-23T22:50:24.101Z"
   },
   {
    "duration": 268,
    "start_time": "2024-08-23T23:25:52.419Z"
   },
   {
    "duration": 18,
    "start_time": "2024-08-23T23:25:55.645Z"
   },
   {
    "duration": 12,
    "start_time": "2024-08-23T23:26:00.559Z"
   },
   {
    "duration": 47,
    "start_time": "2024-08-23T23:26:02.300Z"
   },
   {
    "duration": 12,
    "start_time": "2024-08-24T00:14:21.599Z"
   },
   {
    "duration": 11,
    "start_time": "2024-08-24T00:14:35.213Z"
   },
   {
    "duration": 6,
    "start_time": "2024-08-24T00:30:43.168Z"
   },
   {
    "duration": 8,
    "start_time": "2024-08-24T00:31:37.201Z"
   },
   {
    "duration": 26,
    "start_time": "2024-08-24T00:33:28.237Z"
   },
   {
    "duration": 5,
    "start_time": "2024-08-24T00:34:06.035Z"
   },
   {
    "duration": 24,
    "start_time": "2024-08-24T00:34:13.977Z"
   },
   {
    "duration": 31,
    "start_time": "2024-08-24T00:34:44.158Z"
   },
   {
    "duration": 5,
    "start_time": "2024-08-24T01:02:37.013Z"
   }
  ],
  "kernelspec": {
   "display_name": "Python 3 (ipykernel)",
   "language": "python",
   "name": "python3"
  },
  "language_info": {
   "codemirror_mode": {
    "name": "ipython",
    "version": 3
   },
   "file_extension": ".py",
   "mimetype": "text/x-python",
   "name": "python",
   "nbconvert_exporter": "python",
   "pygments_lexer": "ipython3",
   "version": "3.9.19"
  },
  "toc": {
   "base_numbering": 1,
   "nav_menu": {},
   "number_sections": true,
   "sideBar": true,
   "skip_h1_title": true,
   "title_cell": "Table of Contents",
   "title_sidebar": "Contents",
   "toc_cell": false,
   "toc_position": {},
   "toc_section_display": true,
   "toc_window_display": false
  }
 },
 "nbformat": 4,
 "nbformat_minor": 2
}
